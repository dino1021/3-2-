{
 "cells": [
  {
   "cell_type": "markdown",
   "id": "62c29c66",
   "metadata": {},
   "source": [
    "#### int, print에서 ,와 +의 용도"
   ]
  },
  {
   "cell_type": "code",
   "execution_count": 2,
   "id": "18488978",
   "metadata": {},
   "outputs": [
    {
     "name": "stdout",
     "output_type": "stream",
     "text": [
      "첫번째 숫자를 입력해라 : 300\n",
      "두번째 숫자를 입력해라 : 200\n",
      "300 + 200 = 500\n",
      "300 - 200 = 100\n",
      "300 * 200 = 60000\n",
      "300 / 200 = 1.5\n"
     ]
    }
   ],
   "source": [
    "# [변수] = input('[사용자가 볼 문구]')\n",
    "\n",
    "# 문자형 = str\n",
    "# 정수형 = int\n",
    "\n",
    "a = int(input(\"첫번째 숫자를 입력해라 : \"))\n",
    "b = int(input(\"두번째 숫자를 입력해라 : \"))\n",
    "print(a, '+', b, '=', a+b)\n",
    "print(a, '-', b, '=', a-b)\n",
    "print(str(a)+' * '+str(b)+' = '+str(a*b))\n",
    "print(str(a)+' / '+str(b)+' = '+str(a/b))\n"
   ]
  },
  {
   "cell_type": "markdown",
   "id": "778d4098",
   "metadata": {},
   "source": [
    "- 10진수 = %d\n",
    "- 16진수 = %x\n",
    "- 8진수 = %o\n",
    "- 실수 = %f"
   ]
  },
  {
   "cell_type": "code",
   "execution_count": 6,
   "id": "96172337",
   "metadata": {},
   "outputs": [
    {
     "name": "stdout",
     "output_type": "stream",
     "text": [
      "입력 진수 결정(16/10/8/2) : 16\n",
      "값 입력 : 20\n",
      "0x14\n"
     ]
    }
   ],
   "source": [
    "a = int(input(\"입력 진수 결정(16/10/8/2) : \"))\n",
    "b = int(input(\"값 입력 : \"))\n",
    "\n",
    "if a == 16 :\n",
    "    print(hex(b))\n",
    "elif a == 10 :\n",
    "    print(\"%d\"%b)\n",
    "elif a == 8 :\n",
    "    print(\"%x\"%b)\n",
    "else : \n",
    "    c = bin(b)\n",
    "    print(c)"
   ]
  },
  {
   "cell_type": "code",
   "execution_count": 10,
   "id": "f4e54bdb",
   "metadata": {},
   "outputs": [
    {
     "name": "stdout",
     "output_type": "stream",
     "text": [
      "20\n",
      "32\n",
      "40\n",
      "32.00\n"
     ]
    }
   ],
   "source": [
    "# 첫 번째 방법\n",
    "a = 32\n",
    "print(\"%x\" % a)\n",
    "print(\"%d\" % a)\n",
    "print(\"%o\" % a)\n",
    "print(\"%.2f\" % a)"
   ]
  },
  {
   "cell_type": "code",
   "execution_count": 12,
   "id": "e1da8fd1",
   "metadata": {},
   "outputs": [
    {
     "name": "stdout",
     "output_type": "stream",
     "text": [
      "32\n",
      "0x20\n",
      "0o40\n",
      "0b100000\n",
      "32.0\n"
     ]
    }
   ],
   "source": [
    "# 두 번째 방법\n",
    "a = 32\n",
    "a_16 = hex(a)\n",
    "a_8 = oct(a)\n",
    "a_2 = bin(a)\n",
    "a_f = float(a)\n",
    "\n",
    "print(a)\n",
    "print(a_16)\n",
    "print(a_8)\n",
    "print(a_2)\n",
    "print(a_f)"
   ]
  },
  {
   "cell_type": "code",
   "execution_count": 30,
   "id": "4b45d9a3",
   "metadata": {},
   "outputs": [
    {
     "name": "stdout",
     "output_type": "stream",
     "text": [
      "나는 아침에 사람을 먹었다\n"
     ]
    }
   ],
   "source": [
    "print(\"나는 아침에 사람을 먹었다\")"
   ]
  },
  {
   "cell_type": "code",
   "execution_count": null,
   "id": "b6660d89",
   "metadata": {},
   "outputs": [],
   "source": [
    "a = int(input('1. 입력한 수식 계산 2. 두 수 사이의 합계 : '))\n",
    "\n",
    "if a == 1 : \n",
    "    b = input('*** 수식을 입력하세요. : ') \n",
    "    print(b, '결과는', (eval(b)), '입니다.')\n",
    "elif a == 2 :\n",
    "    c = int(input('*** 첫번째 숫자를 입력하세요. : '))\n",
    "    d = int(input('*** 두번째 숫자를 입력하세요. : '))\n",
    "    \n",
    "    temp = 0\n",
    "    for i in range(c, d+1):\n",
    "        temp = temp + i\n",
    "\n",
    "    print(str(c) +'+...+'+ str(d) + '는 ' + str(temp) + ' 입니다.')"
   ]
  },
  {
   "cell_type": "code",
   "execution_count": 20,
   "id": "1e35cd32",
   "metadata": {},
   "outputs": [
    {
     "name": "stdout",
     "output_type": "stream",
     "text": [
      "# 2단  # 3단  # 4단  # 5단  # 6단  # 7단  # 8단  # 9단  \n",
      "2 X 1 = 2  3 X 1 = 3  4 X 1 = 4  5 X 1 = 5  6 X 1 = 6  7 X 1 = 7  8 X 1 = 8  9 X 1 = 9  \n",
      "2 X 2 = 4  3 X 2 = 6  4 X 2 = 8  5 X 2 = 10  6 X 2 = 12  7 X 2 = 14  8 X 2 = 16  9 X 2 = 18  \n",
      "2 X 3 = 6  3 X 3 = 9  4 X 3 = 12  5 X 3 = 15  6 X 3 = 18  7 X 3 = 21  8 X 3 = 24  9 X 3 = 27  \n",
      "2 X 4 = 8  3 X 4 = 12  4 X 4 = 16  5 X 4 = 20  6 X 4 = 24  7 X 4 = 28  8 X 4 = 32  9 X 4 = 36  \n",
      "2 X 5 = 10  3 X 5 = 15  4 X 5 = 20  5 X 5 = 25  6 X 5 = 30  7 X 5 = 35  8 X 5 = 40  9 X 5 = 45  \n",
      "2 X 6 = 12  3 X 6 = 18  4 X 6 = 24  5 X 6 = 30  6 X 6 = 36  7 X 6 = 42  8 X 6 = 48  9 X 6 = 54  \n",
      "2 X 7 = 14  3 X 7 = 21  4 X 7 = 28  5 X 7 = 35  6 X 7 = 42  7 X 7 = 49  8 X 7 = 56  9 X 7 = 63  \n",
      "2 X 8 = 16  3 X 8 = 24  4 X 8 = 32  5 X 8 = 40  6 X 8 = 48  7 X 8 = 56  8 X 8 = 64  9 X 8 = 72  \n",
      "2 X 9 = 18  3 X 9 = 27  4 X 9 = 36  5 X 9 = 45  6 X 9 = 54  7 X 9 = 63  8 X 9 = 72  9 X 9 = 81  \n"
     ]
    }
   ],
   "source": [
    "for i in range(2, 10):\n",
    "    print('# ' + str(i) + '단', end='  ')\n",
    "    \n",
    "print()\n",
    "\n",
    "for j in range(1, 10):\n",
    "    for k in range(2, 10):\n",
    "        print(k,\"X\", j, '=', (j*k),  end='  ')\n",
    "    print()\n",
    "        "
   ]
  },
  {
   "cell_type": "code",
   "execution_count": null,
   "id": "94322b66",
   "metadata": {},
   "outputs": [],
   "source": []
  },
  {
   "cell_type": "code",
   "execution_count": null,
   "id": "3c41d933",
   "metadata": {},
   "outputs": [],
   "source": []
  }
 ],
 "metadata": {
  "kernelspec": {
   "display_name": "Python 3 (ipykernel)",
   "language": "python",
   "name": "python3"
  },
  "language_info": {
   "codemirror_mode": {
    "name": "ipython",
    "version": 3
   },
   "file_extension": ".py",
   "mimetype": "text/x-python",
   "name": "python",
   "nbconvert_exporter": "python",
   "pygments_lexer": "ipython3",
   "version": "3.9.12"
  }
 },
 "nbformat": 4,
 "nbformat_minor": 5
}
